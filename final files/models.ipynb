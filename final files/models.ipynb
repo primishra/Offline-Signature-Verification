{
 "cells": [
  {
   "cell_type": "code",
   "execution_count": 1,
   "id": "9eab22a2",
   "metadata": {},
   "outputs": [],
   "source": [
    "import pandas as pd"
   ]
  },
  {
   "cell_type": "code",
   "execution_count": 2,
   "id": "26106da3",
   "metadata": {},
   "outputs": [],
   "source": [
    "final_train = pd.read_csv(r\"G:\\Signature Verification Project\\data\\Final Data\\final_train.csv\")\n",
    "\n",
    "final_test = pd.read_csv(r\"G:\\Signature Verification Project\\data\\Final Data\\final_test.csv\")"
   ]
  },
  {
   "cell_type": "code",
   "execution_count": 3,
   "id": "466e5522",
   "metadata": {},
   "outputs": [
    {
     "data": {
      "text/plain": [
       "((17458, 43),\n",
       "              g_ID    g_X    g_Y    g_R  g_Angle  g_del_x  g_del_y  \\\n",
       " 0  001/001_01.png  193.4  152.6  268.7      0.6      0.1      1.1   \n",
       " 1  001/001_01.png  193.4  152.6  268.7      0.6      0.1      1.1   \n",
       " 2  001/001_01.png  193.4  152.6  268.7      0.6      0.1      1.1   \n",
       " 3  001/001_01.png  193.4  152.6  268.7      0.6      0.1      1.1   \n",
       " 4  001/001_01.png  193.4  152.6  268.7      0.6      0.1      1.1   \n",
       " \n",
       "    g_displacement  g_disp_angle  g_cos_angle  ...  fg_vel_y  fg_res_vel  \\\n",
       " 0            23.3           0.2          0.3  ...       0.1        39.1   \n",
       " 1            23.3           0.2          0.3  ...       0.1        25.2   \n",
       " 2            23.3           0.2          0.3  ...       0.1        36.7   \n",
       " 3            23.3           0.2          0.3  ...       0.1        34.8   \n",
       " 4            23.3           0.2          0.3  ...       0.1        30.4   \n",
       " \n",
       "    fg_dir_res_vel  fg_angular_vel  fg_acceleration_x  fg_acceleration_y  \\\n",
       " 0            -0.0             0.0               -0.1                0.1   \n",
       " 1            -0.0             0.0               -0.1                0.1   \n",
       " 2            -0.0             0.0               -0.0                0.1   \n",
       " 3            -0.0             0.0               -0.0                0.1   \n",
       " 4            -0.0            -0.0               -0.0                0.1   \n",
       " \n",
       "    fg_res_acceleration  fg_centripetal_accln  fg_tangential_accln  f_g  \n",
       " 0                 39.1                   0.4                 39.3  1.0  \n",
       " 1                 25.2                   0.1                 25.2  1.0  \n",
       " 2                 36.7                   0.0                 36.7  1.0  \n",
       " 3                 34.8                   0.0                 34.8  1.0  \n",
       " 4                 30.4                   0.1                 30.4  1.0  \n",
       " \n",
       " [5 rows x 43 columns])"
      ]
     },
     "execution_count": 3,
     "metadata": {},
     "output_type": "execute_result"
    }
   ],
   "source": [
    "final_train.shape, final_train.head()"
   ]
  },
  {
   "cell_type": "code",
   "execution_count": 4,
   "id": "a14e4972",
   "metadata": {
    "collapsed": true
   },
   "outputs": [
    {
     "data": {
      "text/plain": [
       "((5748, 43),\n",
       "              g_ID    g_X    g_Y    g_R  g_Angle  g_del_x  g_del_y  \\\n",
       " 0  049/01_049.png  162.5  228.7  296.1      1.0     -0.3      0.8   \n",
       " 1  049/01_049.png  162.5  228.7  296.1      1.0     -0.3      0.8   \n",
       " 2  049/01_049.png  162.5  228.7  296.1      1.0     -0.3      0.8   \n",
       " 3  049/01_049.png  162.5  228.7  296.1      1.0     -0.3      0.8   \n",
       " 4  049/01_049.png  162.5  228.7  296.1      1.0     -0.3      0.8   \n",
       " \n",
       "    g_displacement  g_disp_angle  g_cos_angle  ...  fg_vel_y  fg_res_vel  \\\n",
       " 0            41.6          -0.1          0.3  ...       0.0        17.2   \n",
       " 1            41.6          -0.1          0.3  ...       0.2        29.2   \n",
       " 2            41.6          -0.1          0.3  ...       0.1        42.0   \n",
       " 3            41.6          -0.1          0.3  ...       0.0        19.1   \n",
       " 4            41.6          -0.1          0.3  ...       0.2        29.2   \n",
       " \n",
       "    fg_dir_res_vel  fg_angular_vel  fg_acceleration_x  fg_acceleration_y  \\\n",
       " 0            -0.0            -0.0               -0.0                0.0   \n",
       " 1            -0.0             0.0               -0.1                0.2   \n",
       " 2            -0.0             0.0               -0.0                0.1   \n",
       " 3            -0.0            -0.0                0.0                0.0   \n",
       " 4            -0.0            -0.0               -0.1                0.2   \n",
       " \n",
       "    fg_res_acceleration  fg_centripetal_accln  fg_tangential_accln  f_g  \n",
       " 0                 17.2                   0.0                 17.2  1.0  \n",
       " 1                 29.2                   0.8                 29.6  1.0  \n",
       " 2                 42.0                   0.0                 42.0  1.0  \n",
       " 3                 19.1                   0.0                 19.1  1.0  \n",
       " 4                 29.2                   0.6                 29.4  1.0  \n",
       " \n",
       " [5 rows x 43 columns])"
      ]
     },
     "execution_count": 4,
     "metadata": {},
     "output_type": "execute_result"
    }
   ],
   "source": [
    "final_test.shape, final_test.head()"
   ]
  },
  {
   "cell_type": "code",
   "execution_count": 5,
   "id": "4104bb78",
   "metadata": {
    "collapsed": true
   },
   "outputs": [
    {
     "data": {
      "text/plain": [
       "Index(['g_ID', 'g_X', 'g_Y', 'g_R', 'g_Angle', 'g_del_x', 'g_del_y',\n",
       "       'g_displacement', 'g_disp_angle', 'g_cos_angle', 'g_sine_angle',\n",
       "       'g_vel_x', 'g_vel_y', 'g_res_vel', 'g_dir_res_vel', 'g_angular_vel',\n",
       "       'g_acceleration_x', 'g_acceleration_y', 'g_res_acceleration',\n",
       "       'g_centripetal_accln', 'g_tangential_accln', 'fg_ID', 'fg_X', 'fg_Y',\n",
       "       'fg_R', 'fg_Angle', 'fg_del_x', 'fg_del_y', 'fg_displacement',\n",
       "       'fg_disp_angle', 'fg_cos_angle', 'fg_sine_angle', 'fg_vel_x',\n",
       "       'fg_vel_y', 'fg_res_vel', 'fg_dir_res_vel', 'fg_angular_vel',\n",
       "       'fg_acceleration_x', 'fg_acceleration_y', 'fg_res_acceleration',\n",
       "       'fg_centripetal_accln', 'fg_tangential_accln', 'f_g'],\n",
       "      dtype='object')"
      ]
     },
     "execution_count": 5,
     "metadata": {},
     "output_type": "execute_result"
    }
   ],
   "source": [
    "final_test.columns"
   ]
  },
  {
   "cell_type": "code",
   "execution_count": 4,
   "id": "0a9de5e6",
   "metadata": {},
   "outputs": [
    {
     "name": "stdout",
     "output_type": "stream",
     "text": [
      "splitting complete\n"
     ]
    }
   ],
   "source": [
    "'''\n",
    "## splitting for train, test, eval\n",
    "train_y = final_train[\"f_g\"][:-1000]\n",
    "train_x = final_train.drop(\"f_g\", axis = 1)[:-1000]\n",
    "\n",
    "val_y = final_train[\"f_g\"][-1000:]\n",
    "val_x = final_train.drop(\"f_g\", axis = 1)[-1000:]\n",
    "\n",
    "test_y = final_test[\"f_g\"]\n",
    "test_x = final_test.drop(\"f_g\", axis = 1)\n",
    "\n",
    "print(\"splitting complete\")\n",
    "\n",
    "'''\n",
    "\n",
    "## splitting for train, test, eval\n",
    "train_y = final_train[\"f_g\"]\n",
    "train_x = final_train.drop([\"f_g\", \"fg_ID\", \"g_ID\"], axis = 1)\n",
    "\n",
    "test_y = final_test[\"f_g\"]\n",
    "test_x = final_test.drop([\"f_g\", \"fg_ID\", \"g_ID\"], axis = 1)\n",
    "\n",
    "print(\"splitting complete\")"
   ]
  },
  {
   "cell_type": "code",
   "execution_count": 7,
   "id": "e5773638",
   "metadata": {
    "scrolled": false
   },
   "outputs": [
    {
     "name": "stdout",
     "output_type": "stream",
     "text": [
      "library loaded\n",
      "model loaded\n"
     ]
    },
    {
     "name": "stderr",
     "output_type": "stream",
     "text": [
      "c:\\users\\dell\\appdata\\local\\programs\\python\\python37\\lib\\site-packages\\xgboost\\sklearn.py:1146: UserWarning: The use of label encoder in XGBClassifier is deprecated and will be removed in a future release. To remove this warning, do the following: 1) Pass option use_label_encoder=False when constructing XGBClassifier object; and 2) Encode your labels (y) as integers starting with 0, i.e. 0, 1, 2, ..., [num_class - 1].\n",
      "  warnings.warn(label_encoder_deprecation_msg, UserWarning)\n"
     ]
    },
    {
     "name": "stdout",
     "output_type": "stream",
     "text": [
      "[15:22:40] WARNING: C:/Users/Administrator/workspace/xgboost-win64_release_1.4.0/src/learner.cc:1095: Starting in XGBoost 1.3.0, the default evaluation metric used with the objective 'binary:logistic' was changed from 'error' to 'logloss'. Explicitly set eval_metric if you'd like to restore the old behavior.\n",
      "model trained\n",
      "pred complete\n",
      "Accuracy: 79.40%\n",
      "accuracy given\n"
     ]
    }
   ],
   "source": [
    "### xgboost\n",
    "\n",
    "import sklearn\n",
    "from xgboost import XGBClassifier\n",
    "print(\"library loaded\")\n",
    "\n",
    "\n",
    "# fit model no training data\n",
    "model = XGBClassifier()\n",
    "print(\"model loaded\")\n",
    "\n",
    "model.fit(train_x, train_y)\n",
    "print(\"model trained\")\n",
    "\n",
    "# make predictions for test data\n",
    "y_pred = model.predict(test_x)\n",
    "predictions = [round(value) for value in y_pred]\n",
    "print(\"pred complete\")\n",
    "\n",
    "# evaluate predictions\n",
    "accuracy = sklearn.metrics.accuracy_score(test_y, predictions)\n",
    "print(\"Accuracy: %.2f%%\" % (accuracy * 100.0))\n",
    "print(\"accuracy given\")\n"
   ]
  },
  {
   "cell_type": "code",
   "execution_count": 8,
   "id": "9aad6b3c",
   "metadata": {},
   "outputs": [
    {
     "name": "stdout",
     "output_type": "stream",
     "text": [
      "Number of mislabeled points out of a total 5748 points : 1384\n"
     ]
    }
   ],
   "source": [
    "from sklearn.naive_bayes import GaussianNB\n",
    "\n",
    "gnb = GaussianNB()\n",
    "y_pred = gnb.fit(train_x, train_y).predict(test_x)\n",
    "\n",
    "print(\"Number of mislabeled points out of a total %d points : %d\" % (test_x.shape[0], (test_y != y_pred).sum()))"
   ]
  },
  {
   "cell_type": "code",
   "execution_count": 12,
   "id": "218cf8bd",
   "metadata": {},
   "outputs": [
    {
     "data": {
      "text/plain": [
       "0.7592205984690327"
      ]
     },
     "execution_count": 12,
     "metadata": {},
     "output_type": "execute_result"
    }
   ],
   "source": [
    "(5748-1384)/5748"
   ]
  },
  {
   "cell_type": "code",
   "execution_count": null,
   "id": "93e3b5e7",
   "metadata": {},
   "outputs": [],
   "source": []
  },
  {
   "cell_type": "code",
   "execution_count": null,
   "id": "e83a6079",
   "metadata": {},
   "outputs": [],
   "source": [
    "from sklearn import svm\n",
    "from sklearn.model_selection import GridSearchCV\n",
    "param_grid={'C':[0.1],'gamma':[0.001],'kernel':['rbf','poly']}\n",
    "svc=svm.SVC(probability=True)\n",
    "model=GridSearchCV(svc,param_grid)"
   ]
  },
  {
   "cell_type": "code",
   "execution_count": null,
   "id": "3126ec62",
   "metadata": {},
   "outputs": [],
   "source": [
    "model.fit(train_x, train_y)"
   ]
  },
  {
   "cell_type": "code",
   "execution_count": null,
   "id": "c3934380",
   "metadata": {},
   "outputs": [],
   "source": [
    "# make predictions for test data\n",
    "y_pred = model.predict(test_x)\n",
    "predictions = [round(value) for value in y_pred]\n",
    "print(\"pred complete\")\n",
    "\n",
    "# evaluate predictions\n",
    "accuracy = sklearn.metrics.accuracy_score(test_y, predictions)\n",
    "print(\"Accuracy: %.2f%%\" % (accuracy * 100.0))\n",
    "print(\"accuracy given\")\n"
   ]
  },
  {
   "cell_type": "code",
   "execution_count": null,
   "id": "df366f46",
   "metadata": {},
   "outputs": [],
   "source": []
  },
  {
   "cell_type": "code",
   "execution_count": 14,
   "id": "514e2f25",
   "metadata": {},
   "outputs": [],
   "source": [
    "import os"
   ]
  },
  {
   "cell_type": "code",
   "execution_count": null,
   "id": "6a566d7c",
   "metadata": {},
   "outputs": [],
   "source": []
  },
  {
   "cell_type": "code",
   "execution_count": 9,
   "id": "f6f9270a",
   "metadata": {},
   "outputs": [],
   "source": [
    "#function for implementing stacking using random forest and svm as base models and logistic regression as meta classifier\n",
    "from mlxtend.classifier import StackingClassifier\n",
    "from sklearn.linear_model import LogisticRegression\n",
    "from sklearn import svm\n",
    "from sklearn.ensemble import RandomForestClassifier\n",
    "def stacking(x_train,y_train,x_test):\n",
    "    lr=LogisticRegression(random_state=0)\n",
    "    rf = RandomForestClassifier(random_state=0)\n",
    "    clf=svm.SVC(random_state=0)\n",
    "    sclf = StackingClassifier(classifiers=[clf,rf], \n",
    "                          meta_classifier=lr)\n",
    "    sclf.fit(x_train,y_train)\n",
    "    y1=sclf.predict(x_test)\n",
    "    return y1"
   ]
  },
  {
   "cell_type": "code",
   "execution_count": 5,
   "id": "fdff02a4",
   "metadata": {},
   "outputs": [],
   "source": [
    "#function for implementing stacking using random forest and svm as base models and logistic regression as meta classifier.Predicts probabilities to calculate eer\n",
    "from mlxtend.classifier import StackingClassifier\n",
    "from sklearn.linear_model import LogisticRegression\n",
    "from sklearn import svm\n",
    "from sklearn.ensemble import RandomForestClassifier\n",
    "def stackingprob(x_train,y_train,x_test):\n",
    "    lr=LogisticRegression(random_state=0)\n",
    "    rf = RandomForestClassifier(random_state=0)\n",
    "    clf=svm.SVC(random_state=0)\n",
    "    sclf = StackingClassifier(classifiers=[clf,rf], \n",
    "                          meta_classifier=lr)\n",
    "    sclf.fit(x_train,y_train)\n",
    "    y1=sclf.predict_proba(x_test)\n",
    "    return y1"
   ]
  },
  {
   "cell_type": "code",
   "execution_count": 10,
   "id": "3834ee6d",
   "metadata": {},
   "outputs": [],
   "source": [
    "y1 = stacking(train_x, train_y, test_x)"
   ]
  },
  {
   "cell_type": "code",
   "execution_count": 11,
   "id": "42945cf2",
   "metadata": {},
   "outputs": [
    {
     "name": "stdout",
     "output_type": "stream",
     "text": [
      "Accuracy: 80.45%\n",
      "accuracy given\n"
     ]
    }
   ],
   "source": [
    "import sklearn\n",
    "\n",
    "accuracy = sklearn.metrics.accuracy_score(test_y, y1)\n",
    "print(\"Accuracy: %.2f%%\" % (accuracy * 100.0))\n",
    "print(\"accuracy given\")"
   ]
  },
  {
   "cell_type": "code",
   "execution_count": 7,
   "id": "6c52fefd",
   "metadata": {},
   "outputs": [
    {
     "name": "stdout",
     "output_type": "stream",
     "text": [
      "Accuracy: 80.45%\n",
      "accuracy given\n"
     ]
    }
   ],
   "source": [
    "import sklearn\n",
    "\n",
    "accuracy = sklearn.metrics.accuracy_score(test_y, y1)\n",
    "print(\"Accuracy: %.2f%%\" % (accuracy * 100.0))\n",
    "print(\"accuracy given\")"
   ]
  },
  {
   "cell_type": "code",
   "execution_count": 6,
   "id": "c66c2b97",
   "metadata": {},
   "outputs": [],
   "source": [
    "y2 = stackingprob(train_x, train_y, test_x)"
   ]
  },
  {
   "cell_type": "code",
   "execution_count": 12,
   "id": "f56e2c17",
   "metadata": {
    "scrolled": false
   },
   "outputs": [
    {
     "ename": "ValueError",
     "evalue": "Classification metrics can't handle a mix of binary and continuous-multioutput targets",
     "output_type": "error",
     "traceback": [
      "\u001b[1;31m---------------------------------------------------------------------------\u001b[0m",
      "\u001b[1;31mValueError\u001b[0m                                Traceback (most recent call last)",
      "\u001b[1;32m<ipython-input-12-25152fe54445>\u001b[0m in \u001b[0;36m<module>\u001b[1;34m\u001b[0m\n\u001b[0;32m      1\u001b[0m \u001b[1;32mimport\u001b[0m \u001b[0msklearn\u001b[0m\u001b[1;33m\u001b[0m\u001b[1;33m\u001b[0m\u001b[0m\n\u001b[0;32m      2\u001b[0m \u001b[1;33m\u001b[0m\u001b[0m\n\u001b[1;32m----> 3\u001b[1;33m \u001b[0maccuracy\u001b[0m \u001b[1;33m=\u001b[0m \u001b[0msklearn\u001b[0m\u001b[1;33m.\u001b[0m\u001b[0mmetrics\u001b[0m\u001b[1;33m.\u001b[0m\u001b[0maccuracy_score\u001b[0m\u001b[1;33m(\u001b[0m\u001b[0mtest_y\u001b[0m\u001b[1;33m,\u001b[0m \u001b[0my2\u001b[0m\u001b[1;33m)\u001b[0m\u001b[1;33m\u001b[0m\u001b[1;33m\u001b[0m\u001b[0m\n\u001b[0m\u001b[0;32m      4\u001b[0m \u001b[0mprint\u001b[0m\u001b[1;33m(\u001b[0m\u001b[1;34m\"Accuracy: %.2f%%\"\u001b[0m \u001b[1;33m%\u001b[0m \u001b[1;33m(\u001b[0m\u001b[0maccuracy\u001b[0m \u001b[1;33m*\u001b[0m \u001b[1;36m100.0\u001b[0m\u001b[1;33m)\u001b[0m\u001b[1;33m)\u001b[0m\u001b[1;33m\u001b[0m\u001b[1;33m\u001b[0m\u001b[0m\n\u001b[0;32m      5\u001b[0m \u001b[0mprint\u001b[0m\u001b[1;33m(\u001b[0m\u001b[1;34m\"accuracy given\"\u001b[0m\u001b[1;33m)\u001b[0m\u001b[1;33m\u001b[0m\u001b[1;33m\u001b[0m\u001b[0m\n",
      "\u001b[1;32mc:\\users\\dell\\appdata\\local\\programs\\python\\python37\\lib\\site-packages\\sklearn\\utils\\validation.py\u001b[0m in \u001b[0;36minner_f\u001b[1;34m(*args, **kwargs)\u001b[0m\n\u001b[0;32m     61\u001b[0m             \u001b[0mextra_args\u001b[0m \u001b[1;33m=\u001b[0m \u001b[0mlen\u001b[0m\u001b[1;33m(\u001b[0m\u001b[0margs\u001b[0m\u001b[1;33m)\u001b[0m \u001b[1;33m-\u001b[0m \u001b[0mlen\u001b[0m\u001b[1;33m(\u001b[0m\u001b[0mall_args\u001b[0m\u001b[1;33m)\u001b[0m\u001b[1;33m\u001b[0m\u001b[1;33m\u001b[0m\u001b[0m\n\u001b[0;32m     62\u001b[0m             \u001b[1;32mif\u001b[0m \u001b[0mextra_args\u001b[0m \u001b[1;33m<=\u001b[0m \u001b[1;36m0\u001b[0m\u001b[1;33m:\u001b[0m\u001b[1;33m\u001b[0m\u001b[1;33m\u001b[0m\u001b[0m\n\u001b[1;32m---> 63\u001b[1;33m                 \u001b[1;32mreturn\u001b[0m \u001b[0mf\u001b[0m\u001b[1;33m(\u001b[0m\u001b[1;33m*\u001b[0m\u001b[0margs\u001b[0m\u001b[1;33m,\u001b[0m \u001b[1;33m**\u001b[0m\u001b[0mkwargs\u001b[0m\u001b[1;33m)\u001b[0m\u001b[1;33m\u001b[0m\u001b[1;33m\u001b[0m\u001b[0m\n\u001b[0m\u001b[0;32m     64\u001b[0m \u001b[1;33m\u001b[0m\u001b[0m\n\u001b[0;32m     65\u001b[0m             \u001b[1;31m# extra_args > 0\u001b[0m\u001b[1;33m\u001b[0m\u001b[1;33m\u001b[0m\u001b[1;33m\u001b[0m\u001b[0m\n",
      "\u001b[1;32mc:\\users\\dell\\appdata\\local\\programs\\python\\python37\\lib\\site-packages\\sklearn\\metrics\\_classification.py\u001b[0m in \u001b[0;36maccuracy_score\u001b[1;34m(y_true, y_pred, normalize, sample_weight)\u001b[0m\n\u001b[0;32m    200\u001b[0m \u001b[1;33m\u001b[0m\u001b[0m\n\u001b[0;32m    201\u001b[0m     \u001b[1;31m# Compute accuracy for each possible representation\u001b[0m\u001b[1;33m\u001b[0m\u001b[1;33m\u001b[0m\u001b[1;33m\u001b[0m\u001b[0m\n\u001b[1;32m--> 202\u001b[1;33m     \u001b[0my_type\u001b[0m\u001b[1;33m,\u001b[0m \u001b[0my_true\u001b[0m\u001b[1;33m,\u001b[0m \u001b[0my_pred\u001b[0m \u001b[1;33m=\u001b[0m \u001b[0m_check_targets\u001b[0m\u001b[1;33m(\u001b[0m\u001b[0my_true\u001b[0m\u001b[1;33m,\u001b[0m \u001b[0my_pred\u001b[0m\u001b[1;33m)\u001b[0m\u001b[1;33m\u001b[0m\u001b[1;33m\u001b[0m\u001b[0m\n\u001b[0m\u001b[0;32m    203\u001b[0m     \u001b[0mcheck_consistent_length\u001b[0m\u001b[1;33m(\u001b[0m\u001b[0my_true\u001b[0m\u001b[1;33m,\u001b[0m \u001b[0my_pred\u001b[0m\u001b[1;33m,\u001b[0m \u001b[0msample_weight\u001b[0m\u001b[1;33m)\u001b[0m\u001b[1;33m\u001b[0m\u001b[1;33m\u001b[0m\u001b[0m\n\u001b[0;32m    204\u001b[0m     \u001b[1;32mif\u001b[0m \u001b[0my_type\u001b[0m\u001b[1;33m.\u001b[0m\u001b[0mstartswith\u001b[0m\u001b[1;33m(\u001b[0m\u001b[1;34m'multilabel'\u001b[0m\u001b[1;33m)\u001b[0m\u001b[1;33m:\u001b[0m\u001b[1;33m\u001b[0m\u001b[1;33m\u001b[0m\u001b[0m\n",
      "\u001b[1;32mc:\\users\\dell\\appdata\\local\\programs\\python\\python37\\lib\\site-packages\\sklearn\\metrics\\_classification.py\u001b[0m in \u001b[0;36m_check_targets\u001b[1;34m(y_true, y_pred)\u001b[0m\n\u001b[0;32m     91\u001b[0m     \u001b[1;32mif\u001b[0m \u001b[0mlen\u001b[0m\u001b[1;33m(\u001b[0m\u001b[0my_type\u001b[0m\u001b[1;33m)\u001b[0m \u001b[1;33m>\u001b[0m \u001b[1;36m1\u001b[0m\u001b[1;33m:\u001b[0m\u001b[1;33m\u001b[0m\u001b[1;33m\u001b[0m\u001b[0m\n\u001b[0;32m     92\u001b[0m         raise ValueError(\"Classification metrics can't handle a mix of {0} \"\n\u001b[1;32m---> 93\u001b[1;33m                          \"and {1} targets\".format(type_true, type_pred))\n\u001b[0m\u001b[0;32m     94\u001b[0m \u001b[1;33m\u001b[0m\u001b[0m\n\u001b[0;32m     95\u001b[0m     \u001b[1;31m# We can't have more than one value on y_type => The set is no more needed\u001b[0m\u001b[1;33m\u001b[0m\u001b[1;33m\u001b[0m\u001b[1;33m\u001b[0m\u001b[0m\n",
      "\u001b[1;31mValueError\u001b[0m: Classification metrics can't handle a mix of binary and continuous-multioutput targets"
     ]
    }
   ],
   "source": [
    "import sklearn\n",
    "\n",
    "accuracy = sklearn.metrics.accuracy_score(test_y, y2)\n",
    "print(\"Accuracy: %.2f%%\" % (accuracy * 100.0))\n",
    "print(\"accuracy given\")"
   ]
  },
  {
   "cell_type": "code",
   "execution_count": null,
   "id": "33b569ce",
   "metadata": {},
   "outputs": [],
   "source": []
  },
  {
   "cell_type": "code",
   "execution_count": null,
   "id": "329e59bb",
   "metadata": {},
   "outputs": [],
   "source": []
  },
  {
   "cell_type": "code",
   "execution_count": null,
   "id": "df16584a",
   "metadata": {},
   "outputs": [],
   "source": []
  },
  {
   "cell_type": "code",
   "execution_count": null,
   "id": "48c53842",
   "metadata": {},
   "outputs": [],
   "source": []
  },
  {
   "cell_type": "code",
   "execution_count": null,
   "id": "464ca7e0",
   "metadata": {},
   "outputs": [],
   "source": []
  },
  {
   "cell_type": "code",
   "execution_count": null,
   "id": "2dd2d42f",
   "metadata": {},
   "outputs": [],
   "source": []
  },
  {
   "cell_type": "code",
   "execution_count": null,
   "id": "7b9802b6",
   "metadata": {},
   "outputs": [],
   "source": []
  },
  {
   "cell_type": "code",
   "execution_count": null,
   "id": "1176e3fa",
   "metadata": {},
   "outputs": [],
   "source": []
  },
  {
   "cell_type": "code",
   "execution_count": null,
   "id": "871555c8",
   "metadata": {},
   "outputs": [],
   "source": []
  },
  {
   "cell_type": "code",
   "execution_count": null,
   "id": "149a5d26",
   "metadata": {},
   "outputs": [],
   "source": []
  },
  {
   "cell_type": "code",
   "execution_count": 13,
   "id": "7608e30a",
   "metadata": {
    "scrolled": false
   },
   "outputs": [
    {
     "ename": "AttributeError",
     "evalue": "module 'keras.utils.generic_utils' has no attribute 'populate_dict_with_module_objects'",
     "output_type": "error",
     "traceback": [
      "\u001b[1;31m---------------------------------------------------------------------------\u001b[0m",
      "\u001b[1;31mAttributeError\u001b[0m                            Traceback (most recent call last)",
      "\u001b[1;32m<ipython-input-13-f1dddb4f6980>\u001b[0m in \u001b[0;36m<module>\u001b[1;34m\u001b[0m\n\u001b[0;32m      1\u001b[0m \u001b[1;31m## NFNets model\u001b[0m\u001b[1;33m\u001b[0m\u001b[1;33m\u001b[0m\u001b[1;33m\u001b[0m\u001b[0m\n\u001b[0;32m      2\u001b[0m \u001b[1;33m\u001b[0m\u001b[0m\n\u001b[1;32m----> 3\u001b[1;33m \u001b[1;32mfrom\u001b[0m \u001b[0mnfnets_keras\u001b[0m \u001b[1;32mimport\u001b[0m \u001b[0mNFNetF3\u001b[0m\u001b[1;33m\u001b[0m\u001b[1;33m\u001b[0m\u001b[0m\n\u001b[0m\u001b[0;32m      4\u001b[0m \u001b[0mprint\u001b[0m\u001b[1;33m(\u001b[0m\u001b[1;34m\"model loaded\"\u001b[0m\u001b[1;33m)\u001b[0m\u001b[1;33m\u001b[0m\u001b[1;33m\u001b[0m\u001b[0m\n\u001b[0;32m      5\u001b[0m \u001b[1;33m\u001b[0m\u001b[0m\n",
      "\u001b[1;32mc:\\users\\dell\\appdata\\local\\programs\\python\\python37\\lib\\site-packages\\nfnets_keras\\__init__.py\u001b[0m in \u001b[0;36m<module>\u001b[1;34m\u001b[0m\n\u001b[0;32m      1\u001b[0m \u001b[1;33m\u001b[0m\u001b[0m\n\u001b[0;32m      2\u001b[0m \u001b[1;33m\u001b[0m\u001b[0m\n\u001b[1;32m----> 3\u001b[1;33m \u001b[1;32mfrom\u001b[0m \u001b[1;33m.\u001b[0m\u001b[0msgd_agc\u001b[0m \u001b[1;32mimport\u001b[0m \u001b[0mSGD_AGC\u001b[0m\u001b[1;33m\u001b[0m\u001b[1;33m\u001b[0m\u001b[0m\n\u001b[0m\u001b[0;32m      4\u001b[0m \u001b[1;32mfrom\u001b[0m \u001b[1;33m.\u001b[0m\u001b[0mnfnet_layers\u001b[0m \u001b[1;32mimport\u001b[0m \u001b[0mWSConv2D\u001b[0m\u001b[1;33m,\u001b[0m \u001b[0mStochasticDepth\u001b[0m\u001b[1;33m,\u001b[0m \u001b[0mSqueezeExcite\u001b[0m\u001b[1;33m\u001b[0m\u001b[1;33m\u001b[0m\u001b[0m\n\u001b[0;32m      5\u001b[0m \u001b[1;32mfrom\u001b[0m \u001b[1;33m.\u001b[0m\u001b[0mnfnet\u001b[0m \u001b[1;32mimport\u001b[0m \u001b[0mNFBlock\u001b[0m\u001b[1;33m,\u001b[0m \u001b[0mNFNet\u001b[0m\u001b[1;33m,\u001b[0m \u001b[0mNFNetF0\u001b[0m\u001b[1;33m,\u001b[0m \u001b[0mNFNetF1\u001b[0m\u001b[1;33m,\u001b[0m \u001b[0mNFNetF2\u001b[0m\u001b[1;33m,\u001b[0m \u001b[0mNFNetF3\u001b[0m\u001b[1;33m,\u001b[0m \u001b[0mNFNetF4\u001b[0m\u001b[1;33m,\u001b[0m \u001b[0mNFNetF5\u001b[0m\u001b[1;33m,\u001b[0m \u001b[0mNFNetF6\u001b[0m\u001b[1;33m,\u001b[0m \u001b[0mNFNetF7\u001b[0m\u001b[1;33m\u001b[0m\u001b[1;33m\u001b[0m\u001b[0m\n",
      "\u001b[1;32mc:\\users\\dell\\appdata\\local\\programs\\python\\python37\\lib\\site-packages\\nfnets_keras\\sgd_agc.py\u001b[0m in \u001b[0;36m<module>\u001b[1;34m\u001b[0m\n\u001b[0;32m      2\u001b[0m \u001b[1;33m\u001b[0m\u001b[0m\n\u001b[0;32m      3\u001b[0m \u001b[1;32mimport\u001b[0m \u001b[0mtensorflow\u001b[0m \u001b[1;32mas\u001b[0m \u001b[0mtf\u001b[0m\u001b[1;33m\u001b[0m\u001b[1;33m\u001b[0m\u001b[0m\n\u001b[1;32m----> 4\u001b[1;33m \u001b[1;32mfrom\u001b[0m \u001b[0mkeras\u001b[0m\u001b[1;33m.\u001b[0m\u001b[0moptimizers\u001b[0m \u001b[1;32mimport\u001b[0m \u001b[0mOptimizer\u001b[0m\u001b[1;33m\u001b[0m\u001b[1;33m\u001b[0m\u001b[0m\n\u001b[0m\u001b[0;32m      5\u001b[0m \u001b[1;33m\u001b[0m\u001b[0m\n\u001b[0;32m      6\u001b[0m \u001b[1;33m\u001b[0m\u001b[0m\n",
      "\u001b[1;32mc:\\users\\dell\\appdata\\local\\programs\\python\\python37\\lib\\site-packages\\keras\\__init__.py\u001b[0m in \u001b[0;36m<module>\u001b[1;34m\u001b[0m\n\u001b[0;32m     18\u001b[0m \u001b[1;32mfrom\u001b[0m \u001b[1;33m.\u001b[0m \u001b[1;32mimport\u001b[0m \u001b[0mcallbacks\u001b[0m\u001b[1;33m\u001b[0m\u001b[1;33m\u001b[0m\u001b[0m\n\u001b[0;32m     19\u001b[0m \u001b[1;32mfrom\u001b[0m \u001b[1;33m.\u001b[0m \u001b[1;32mimport\u001b[0m \u001b[0mconstraints\u001b[0m\u001b[1;33m\u001b[0m\u001b[1;33m\u001b[0m\u001b[0m\n\u001b[1;32m---> 20\u001b[1;33m \u001b[1;32mfrom\u001b[0m \u001b[1;33m.\u001b[0m \u001b[1;32mimport\u001b[0m \u001b[0minitializers\u001b[0m\u001b[1;33m\u001b[0m\u001b[1;33m\u001b[0m\u001b[0m\n\u001b[0m\u001b[0;32m     21\u001b[0m \u001b[1;32mfrom\u001b[0m \u001b[1;33m.\u001b[0m \u001b[1;32mimport\u001b[0m \u001b[0mmetrics\u001b[0m\u001b[1;33m\u001b[0m\u001b[1;33m\u001b[0m\u001b[0m\n\u001b[0;32m     22\u001b[0m \u001b[1;32mfrom\u001b[0m \u001b[1;33m.\u001b[0m \u001b[1;32mimport\u001b[0m \u001b[0mmodels\u001b[0m\u001b[1;33m\u001b[0m\u001b[1;33m\u001b[0m\u001b[0m\n",
      "\u001b[1;32mc:\\users\\dell\\appdata\\local\\programs\\python\\python37\\lib\\site-packages\\keras\\initializers\\__init__.py\u001b[0m in \u001b[0;36m<module>\u001b[1;34m\u001b[0m\n\u001b[0;32m    122\u001b[0m \u001b[1;31m# from ALL_OBJECTS. We make no guarantees as to whether these objects will\u001b[0m\u001b[1;33m\u001b[0m\u001b[1;33m\u001b[0m\u001b[1;33m\u001b[0m\u001b[0m\n\u001b[0;32m    123\u001b[0m \u001b[1;31m# using their correct version.\u001b[0m\u001b[1;33m\u001b[0m\u001b[1;33m\u001b[0m\u001b[1;33m\u001b[0m\u001b[0m\n\u001b[1;32m--> 124\u001b[1;33m \u001b[0mpopulate_deserializable_objects\u001b[0m\u001b[1;33m(\u001b[0m\u001b[1;33m)\u001b[0m\u001b[1;33m\u001b[0m\u001b[1;33m\u001b[0m\u001b[0m\n\u001b[0m\u001b[0;32m    125\u001b[0m \u001b[0mglobals\u001b[0m\u001b[1;33m(\u001b[0m\u001b[1;33m)\u001b[0m\u001b[1;33m.\u001b[0m\u001b[0mupdate\u001b[0m\u001b[1;33m(\u001b[0m\u001b[0mLOCAL\u001b[0m\u001b[1;33m.\u001b[0m\u001b[0mALL_OBJECTS\u001b[0m\u001b[1;33m)\u001b[0m\u001b[1;33m\u001b[0m\u001b[1;33m\u001b[0m\u001b[0m\n\u001b[0;32m    126\u001b[0m \u001b[1;33m\u001b[0m\u001b[0m\n",
      "\u001b[1;32mc:\\users\\dell\\appdata\\local\\programs\\python\\python37\\lib\\site-packages\\keras\\initializers\\__init__.py\u001b[0m in \u001b[0;36mpopulate_deserializable_objects\u001b[1;34m()\u001b[0m\n\u001b[0;32m     80\u001b[0m     \u001b[0mv2_objs\u001b[0m \u001b[1;33m=\u001b[0m \u001b[1;33m{\u001b[0m\u001b[1;33m}\u001b[0m\u001b[1;33m\u001b[0m\u001b[1;33m\u001b[0m\u001b[0m\n\u001b[0;32m     81\u001b[0m     \u001b[0mbase_cls\u001b[0m \u001b[1;33m=\u001b[0m \u001b[0minitializers_v2\u001b[0m\u001b[1;33m.\u001b[0m\u001b[0mInitializer\u001b[0m\u001b[1;33m\u001b[0m\u001b[1;33m\u001b[0m\u001b[0m\n\u001b[1;32m---> 82\u001b[1;33m     generic_utils.populate_dict_with_module_objects(\n\u001b[0m\u001b[0;32m     83\u001b[0m         \u001b[0mv2_objs\u001b[0m\u001b[1;33m,\u001b[0m\u001b[1;33m\u001b[0m\u001b[1;33m\u001b[0m\u001b[0m\n\u001b[0;32m     84\u001b[0m         \u001b[1;33m[\u001b[0m\u001b[0minitializers_v2\u001b[0m\u001b[1;33m]\u001b[0m\u001b[1;33m,\u001b[0m\u001b[1;33m\u001b[0m\u001b[1;33m\u001b[0m\u001b[0m\n",
      "\u001b[1;31mAttributeError\u001b[0m: module 'keras.utils.generic_utils' has no attribute 'populate_dict_with_module_objects'"
     ]
    }
   ],
   "source": [
    "## NFNets model\n",
    "\n",
    "from nfnets_keras import NFNetF3\n",
    "print(\"model loaded\")\n",
    "\n",
    "model = NFNetF3(include_top = True, num_classes = 10)\n",
    "print(\"1\")\n",
    "\n",
    "model.compile('adam', 'categorical_crossentropy')\n",
    "print(\"2\")\n",
    "\n",
    "model.fit(train_x, train_x, \n",
    "batch_size = 32, epochs = 10,\n",
    "validation_data = (val_x, val_y))\n",
    "print(\"3\")\n",
    "\n",
    "\n",
    "## evaluation\n",
    "results = model.evaluate(test_x, test_y, batch_size = 64)\n",
    "print(\"test loss, test acc: \", results)\n",
    "print(\"eval complete\")\n",
    "\n",
    "\n",
    "\n",
    "## predition\n",
    "preditions = model.predict(x_test)\n",
    "print(\"pred complete\")\n",
    "\n"
   ]
  },
  {
   "cell_type": "code",
   "execution_count": null,
   "id": "d09c6db6",
   "metadata": {},
   "outputs": [],
   "source": []
  }
 ],
 "metadata": {
  "kernelspec": {
   "display_name": "Python 3",
   "language": "python",
   "name": "python3"
  },
  "language_info": {
   "codemirror_mode": {
    "name": "ipython",
    "version": 3
   },
   "file_extension": ".py",
   "mimetype": "text/x-python",
   "name": "python",
   "nbconvert_exporter": "python",
   "pygments_lexer": "ipython3",
   "version": "3.7.8rc1"
  }
 },
 "nbformat": 4,
 "nbformat_minor": 5
}
